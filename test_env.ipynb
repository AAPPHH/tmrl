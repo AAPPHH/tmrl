{
 "cells": [
  {
   "cell_type": "code",
   "execution_count": 1,
   "metadata": {},
   "outputs": [],
   "source": [
    "import gym\n",
    "import gym_tmrl\n",
    "import numpy as np\n",
    "import time"
   ]
  },
  {
   "cell_type": "code",
   "execution_count": 2,
   "metadata": {},
   "outputs": [],
   "source": [
    "env_config = {\"forced_sleep_time\":1.0,\n",
    "             \"ep_max_length\":10,\n",
    "             \"real_time\":False,\n",
    "             \"act_threading\":True,\n",
    "             \"act_in_obs\":True,\n",
    "             \"reset_act_buf\":True}"
   ]
  },
  {
   "cell_type": "code",
   "execution_count": 3,
   "metadata": {},
   "outputs": [
    {
     "name": "stderr",
     "output_type": "stream",
     "text": [
      "C:\\Users\\Yann\\AppData\\Roaming\\Python\\Python37\\site-packages\\gym\\logger.py:30: UserWarning: \u001b[33mWARN: Box bound precision lowered by casting to float32\u001b[0m\n",
      "  warnings.warn(colorize('%s: %s'%('WARN', msg % args), 'yellow'))\n"
     ]
    }
   ],
   "source": [
    "env = gym.make(\"gym_tmrl:gym-tmrl-v0\", config=env_config)"
   ]
  },
  {
   "cell_type": "code",
   "execution_count": 4,
   "metadata": {
    "scrolled": true
   },
   "outputs": [
    {
     "data": {
      "text/plain": [
       "{'obs': array({'speed': 11, 'img': array([[[108,  80,  31, 255],\n",
       "         [112,  82,  33, 255],\n",
       "         [122,  92,  42, 255],\n",
       "         ...,\n",
       "         [128, 129, 111, 255],\n",
       "         [121, 124, 105, 255],\n",
       "         [112, 115,  96, 255]],\n",
       " \n",
       "        [[113,  83,  34, 255],\n",
       "         [115,  84,  33, 255],\n",
       "         [125,  93,  43, 255],\n",
       "         ...,\n",
       "         [122, 123, 106, 255],\n",
       "         [113, 115,  97, 255],\n",
       "         [106, 109,  90, 255]],\n",
       " \n",
       "        [[124,  88,  38, 255],\n",
       "         [122,  87,  35, 255],\n",
       "         [128,  94,  43, 255],\n",
       "         ...,\n",
       "         [121, 122, 105, 255],\n",
       "         [115, 116, 100, 255],\n",
       "         [109, 109,  93, 255]],\n",
       " \n",
       "        ...,\n",
       " \n",
       "        [[ 82,  63,  20, 255],\n",
       "         [ 82,  64,  20, 255],\n",
       "         [ 82,  64,  20, 255],\n",
       "         ...,\n",
       "         [ 85, 189, 159, 255],\n",
       "         [ 85, 192, 162, 255],\n",
       "         [ 85, 194, 163, 255]],\n",
       " \n",
       "        [[ 83,  66,  23, 255],\n",
       "         [ 82,  65,  23, 255],\n",
       "         [ 82,  65,  24, 255],\n",
       "         ...,\n",
       "         [ 82, 183, 154, 255],\n",
       "         [ 80, 185, 156, 255],\n",
       "         [ 81, 187, 157, 255]],\n",
       " \n",
       "        [[ 78,  61,  21, 255],\n",
       "         [ 76,  59,  20, 255],\n",
       "         [ 75,  59,  20, 255],\n",
       "         ...,\n",
       "         [ 76, 176, 148, 255],\n",
       "         [ 76, 177, 149, 255],\n",
       "         [ 75, 178, 149, 255]]], dtype=uint8)}, dtype=object),\n",
       " 'act': array([0., 0., 0., 0.])}"
      ]
     },
     "execution_count": 4,
     "metadata": {},
     "output_type": "execute_result"
    }
   ],
   "source": [
    "env.reset()"
   ]
  },
  {
   "cell_type": "code",
   "execution_count": 6,
   "metadata": {},
   "outputs": [
    {
     "data": {
      "text/plain": [
       "({'obs': array({'speed': 41, 'img': array([[[105,  78,  30, 255],\n",
       "          [110,  81,  33, 255],\n",
       "          [119,  90,  41, 255],\n",
       "          ...,\n",
       "          [122, 124, 106, 255],\n",
       "          [115, 118, 100, 255],\n",
       "          [106, 109,  91, 255]],\n",
       "  \n",
       "         [[110,  81,  33, 255],\n",
       "          [112,  82,  33, 255],\n",
       "          [122,  91,  42, 255],\n",
       "          ...,\n",
       "          [117, 118, 101, 255],\n",
       "          [107, 109,  92, 255],\n",
       "          [101, 104,  85, 255]],\n",
       "  \n",
       "         [[120,  86,  37, 255],\n",
       "          [119,  85,  35, 255],\n",
       "          [125,  92,  42, 255],\n",
       "          ...,\n",
       "          [115, 116, 100, 255],\n",
       "          [110, 111,  95, 255],\n",
       "          [104, 104,  88, 255]],\n",
       "  \n",
       "         ...,\n",
       "  \n",
       "         [[ 81,  63,  19, 255],\n",
       "          [ 81,  63,  20, 255],\n",
       "          [ 80,  62,  20, 255],\n",
       "          ...,\n",
       "          [ 84, 188, 159, 255],\n",
       "          [ 83, 189, 159, 255],\n",
       "          [ 83, 189, 159, 255]],\n",
       "  \n",
       "         [[ 82,  66,  24, 255],\n",
       "          [ 82,  65,  23, 255],\n",
       "          [ 81,  65,  24, 255],\n",
       "          ...,\n",
       "          [ 81, 185, 156, 255],\n",
       "          [ 81, 185, 156, 255],\n",
       "          [ 80, 185, 156, 255]],\n",
       "  \n",
       "         [[ 78,  61,  21, 255],\n",
       "          [ 77,  60,  20, 255],\n",
       "          [ 76,  60,  20, 255],\n",
       "          ...,\n",
       "          [ 78, 180, 151, 255],\n",
       "          [ 77, 180, 151, 255],\n",
       "          [ 76, 179, 149, 255]]], dtype=uint8)}, dtype=object),\n",
       "  'act': array([1., 0., 0., 0.])},\n",
       " 41,\n",
       " False,\n",
       " {})"
      ]
     },
     "execution_count": 6,
     "metadata": {},
     "output_type": "execute_result"
    }
   ],
   "source": [
    "act = np.array([1.0,0.0,0.0,0.0])\n",
    "time.sleep(2.0)  # click on TM window\n",
    "env.step(act)"
   ]
  },
  {
   "cell_type": "code",
   "execution_count": null,
   "metadata": {},
   "outputs": [],
   "source": [
    "Z"
   ]
  }
 ],
 "metadata": {
  "kernelspec": {
   "display_name": "Python 3",
   "language": "python",
   "name": "python3"
  },
  "language_info": {
   "codemirror_mode": {
    "name": "ipython",
    "version": 3
   },
   "file_extension": ".py",
   "mimetype": "text/x-python",
   "name": "python",
   "nbconvert_exporter": "python",
   "pygments_lexer": "ipython3",
   "version": "3.7.6"
  }
 },
 "nbformat": 4,
 "nbformat_minor": 4
}
