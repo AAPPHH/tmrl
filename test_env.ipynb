{
 "cells": [
  {
   "cell_type": "code",
   "execution_count": 6,
   "metadata": {},
   "outputs": [],
   "source": [
    "import gym\n",
    "import gym_tmrl\n",
    "import numpy as np\n",
    "import time"
   ]
  },
  {
   "cell_type": "code",
   "execution_count": 7,
   "metadata": {},
   "outputs": [],
   "source": [
    "env_config = {\"forced_sleep_time\":0.05,\n",
    "             \"ep_max_length\":10,\n",
    "             \"real_time\":False,\n",
    "             \"act_threading\":True,\n",
    "             \"act_in_obs\":True,\n",
    "             \"reset_act_buf\":True}"
   ]
  },
  {
   "cell_type": "code",
   "execution_count": 8,
   "metadata": {},
   "outputs": [],
   "source": [
    "env = gym.make(\"gym_tmrl:gym-tmrl-v0\", config=env_config)"
   ]
  },
  {
   "cell_type": "code",
   "execution_count": 9,
   "metadata": {
    "scrolled": true
   },
   "outputs": [
    {
     "data": {
      "text/plain": [
       "{'speed': array(0),\n",
       " 'img': array([[[ 43,  43,  43, 255],\n",
       "         [255, 255, 255, 255],\n",
       "         [255, 255, 255, 255],\n",
       "         ...,\n",
       "         [236, 236, 236, 255],\n",
       "         [232, 232, 232, 255],\n",
       "         [227, 227, 227, 255]],\n",
       " \n",
       "        [[ 43,  43,  43, 255],\n",
       "         [200, 162, 116, 255],\n",
       "         [200, 162, 116, 255],\n",
       "         ...,\n",
       "         [192, 154, 109, 255],\n",
       "         [188, 151, 107, 255],\n",
       "         [184, 148, 105, 255]],\n",
       " \n",
       "        [[ 43,  43,  43, 255],\n",
       "         [178, 145, 105, 255],\n",
       "         [178, 145, 105, 255],\n",
       "         ...,\n",
       "         [192, 154, 109, 255],\n",
       "         [187, 151, 107, 255],\n",
       "         [183, 148, 105, 255]],\n",
       " \n",
       "        ...,\n",
       " \n",
       "        [[ 43,  43,  43, 255],\n",
       "         [201, 199, 191, 255],\n",
       "         [196, 194, 187, 255],\n",
       "         ...,\n",
       "         [109, 116, 112, 255],\n",
       "         [111, 117, 114, 255],\n",
       "         [114, 122, 116, 255]],\n",
       " \n",
       "        [[ 43,  43,  43, 255],\n",
       "         [193, 192, 185, 255],\n",
       "         [192, 190, 184, 255],\n",
       "         ...,\n",
       "         [110, 118, 113, 255],\n",
       "         [108, 117, 111, 255],\n",
       "         [109, 118, 111, 255]],\n",
       " \n",
       "        [[ 43,  43,  43, 255],\n",
       "         [ 43,  43,  43, 255],\n",
       "         [ 43,  43,  43, 255],\n",
       "         ...,\n",
       "         [144, 144, 144, 255],\n",
       "         [142, 142, 142, 255],\n",
       "         [139, 139, 139, 255]]], dtype=uint8),\n",
       " 'act': array([0., 0., 0., 0.])}"
      ]
     },
     "execution_count": 9,
     "metadata": {},
     "output_type": "execute_result"
    }
   ],
   "source": [
    "env.reset()"
   ]
  },
  {
   "cell_type": "code",
   "execution_count": 11,
   "metadata": {},
   "outputs": [
    {
     "name": "stdout",
     "output_type": "stream",
     "text": [
      "i:0, vel:0, rew:0\n",
      "i:1, vel:1, rew:1\n",
      "i:2, vel:2, rew:2\n",
      "i:3, vel:3, rew:3\n",
      "i:4, vel:3, rew:3\n",
      "i:5, vel:3, rew:3\n",
      "i:6, vel:3, rew:3\n",
      "i:7, vel:3, rew:3\n",
      "i:8, vel:3, rew:3\n",
      "i:9, vel:6, rew:6\n",
      "i:10, vel:7, rew:7\n",
      "i:11, vel:11, rew:11\n",
      "i:12, vel:11, rew:11\n",
      "i:13, vel:11, rew:11\n",
      "i:14, vel:11, rew:11\n",
      "i:15, vel:10, rew:10\n",
      "i:16, vel:10, rew:10\n",
      "i:17, vel:10, rew:10\n",
      "i:18, vel:9, rew:9\n",
      "i:19, vel:13, rew:13\n",
      "i:0, vel:1, rew:1\n",
      "i:1, vel:2, rew:2\n",
      "i:2, vel:5, rew:5\n",
      "i:3, vel:10, rew:10\n",
      "i:4, vel:13, rew:13\n",
      "i:5, vel:16, rew:16\n",
      "i:6, vel:20, rew:20\n",
      "i:7, vel:24, rew:24\n",
      "i:8, vel:27, rew:27\n",
      "i:9, vel:30, rew:30\n",
      "i:10, vel:33, rew:33\n",
      "i:11, vel:34, rew:34\n",
      "i:12, vel:37, rew:37\n",
      "i:13, vel:39, rew:39\n",
      "i:14, vel:40, rew:40\n",
      "i:15, vel:42, rew:42\n",
      "i:16, vel:44, rew:44\n",
      "i:17, vel:46, rew:46\n",
      "i:18, vel:46, rew:46\n",
      "i:19, vel:48, rew:48\n"
     ]
    }
   ],
   "source": [
    "act = np.array([1.0,0.0,0.0,0.0])\n",
    "time.sleep(2.0)  # click on TM window\n",
    "env.reset()\n",
    "for i in range(20):\n",
    "    obs, rew, done, info = env.step(act)\n",
    "    print(f\"i:{i}, vel:{obs['speed']}, rew:{rew}\")\n",
    "env.reset()\n",
    "for i in range(20):\n",
    "    obs, rew, done, info = env.step(act)\n",
    "    print(f\"i:{i}, vel:{obs['speed']}, rew:{rew}\")"
   ]
  },
  {
   "cell_type": "code",
   "execution_count": 6,
   "metadata": {},
   "outputs": [
    {
     "ename": "NameError",
     "evalue": "name 'zz' is not defined",
     "output_type": "error",
     "traceback": [
      "\u001b[1;31m---------------------------------------------------------------------------\u001b[0m",
      "\u001b[1;31mNameError\u001b[0m                                 Traceback (most recent call last)",
      "\u001b[1;32m<ipython-input-6-15546de8c3b0>\u001b[0m in \u001b[0;36m<module>\u001b[1;34m\u001b[0m\n\u001b[1;32m----> 1\u001b[1;33m \u001b[0mzz\u001b[0m\u001b[1;33m\u001b[0m\u001b[1;33m\u001b[0m\u001b[0m\n\u001b[0m",
      "\u001b[1;31mNameError\u001b[0m: name 'zz' is not defined"
     ]
    }
   ],
   "source": [
    "wwwwwwwwwwwwwwwwwwww\n",
    "wwwwwwwwwwwwwwwwwwwwzz"
   ]
  },
  {
   "cell_type": "code",
   "execution_count": null,
   "metadata": {},
   "outputs": [],
   "source": []
  }
 ],
 "metadata": {
  "kernelspec": {
   "display_name": "Python 3",
   "language": "python",
   "name": "python3"
  },
  "language_info": {
   "codemirror_mode": {
    "name": "ipython",
    "version": 3
   },
   "file_extension": ".py",
   "mimetype": "text/x-python",
   "name": "python",
   "nbconvert_exporter": "python",
   "pygments_lexer": "ipython3",
   "version": "3.8.3"
  }
 },
 "nbformat": 4,
 "nbformat_minor": 4
}
