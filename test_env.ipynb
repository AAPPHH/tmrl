{
 "cells": [
  {
   "cell_type": "code",
   "execution_count": 1,
   "metadata": {},
   "outputs": [],
   "source": [
    "import gym\n",
    "import gym_tmrl\n",
    "import numpy as np\n",
    "import time"
   ]
  },
  {
   "cell_type": "code",
   "execution_count": 2,
   "metadata": {},
   "outputs": [],
   "source": [
    "env_config = {\"forced_sleep_time\":0.05,\n",
    "             \"ep_max_length\":10,\n",
    "             \"real_time\":False,\n",
    "             \"act_threading\":True,\n",
    "             \"act_in_obs\":True,\n",
    "             \"reset_act_buf\":True}"
   ]
  },
  {
   "cell_type": "code",
   "execution_count": 3,
   "metadata": {},
   "outputs": [
    {
     "name": "stderr",
     "output_type": "stream",
     "text": [
      "C:\\Users\\Yann\\AppData\\Roaming\\Python\\Python37\\site-packages\\gym\\logger.py:30: UserWarning: \u001b[33mWARN: Box bound precision lowered by casting to float32\u001b[0m\n",
      "  warnings.warn(colorize('%s: %s'%('WARN', msg % args), 'yellow'))\n"
     ]
    }
   ],
   "source": [
    "env = gym.make(\"gym_tmrl:gym-tmrl-v0\", config=env_config)"
   ]
  },
  {
   "cell_type": "code",
   "execution_count": 4,
   "metadata": {
    "scrolled": true
   },
   "outputs": [
    {
     "data": {
      "text/plain": [
       "{'speed': array(0),\n",
       " 'img': array([[[ 92,  79,  57, 255],\n",
       "         [255, 255, 255, 255],\n",
       "         [255, 255, 255, 255],\n",
       "         ...,\n",
       "         [236, 236, 236, 255],\n",
       "         [232, 232, 232, 255],\n",
       "         [227, 227, 227, 255]],\n",
       " \n",
       "        [[ 94,  81,  59, 255],\n",
       "         [ 79,  68,  54, 255],\n",
       "         [ 79,  68,  54, 255],\n",
       "         ...,\n",
       "         [ 73,  63,  50, 255],\n",
       "         [ 72,  62,  49, 255],\n",
       "         [ 70,  61,  48, 255]],\n",
       " \n",
       "        [[ 96,  84,  60, 255],\n",
       "         [ 80,  67,  53, 255],\n",
       "         [ 80,  67,  53, 255],\n",
       "         ...,\n",
       "         [ 73,  63,  50, 255],\n",
       "         [ 72,  62,  49, 255],\n",
       "         [ 70,  61,  48, 255]],\n",
       " \n",
       "        ...,\n",
       " \n",
       "        [[ 80,  71,  53, 255],\n",
       "         [ 79,  68,  54, 255],\n",
       "         [ 79,  68,  54, 255],\n",
       "         ...,\n",
       "         [ 56,  48,  38, 255],\n",
       "         [ 55,  47,  37, 255],\n",
       "         [ 53,  46,  36, 255]],\n",
       " \n",
       "        [[ 79,  71,  53, 255],\n",
       "         [ 79,  68,  54, 255],\n",
       "         [ 79,  68,  54, 255],\n",
       "         ...,\n",
       "         [ 56,  48,  38, 255],\n",
       "         [ 55,  47,  37, 255],\n",
       "         [ 53,  46,  36, 255]],\n",
       " \n",
       "        [[ 77,  70,  53, 255],\n",
       "         [ 77,  69,  52, 255],\n",
       "         [ 76,  69,  52, 255],\n",
       "         ...,\n",
       "         [ 40,  40,  40, 255],\n",
       "         [ 39,  39,  39, 255],\n",
       "         [ 38,  38,  38, 255]]], dtype=uint8),\n",
       " 'act': array([0., 0., 0., 0.])}"
      ]
     },
     "execution_count": 4,
     "metadata": {},
     "output_type": "execute_result"
    }
   ],
   "source": [
    "env.reset()"
   ]
  },
  {
   "cell_type": "code",
   "execution_count": 5,
   "metadata": {},
   "outputs": [
    {
     "name": "stdout",
     "output_type": "stream",
     "text": [
      "i:0, vel:1, rew:1\n",
      "i:1, vel:4, rew:4\n",
      "i:2, vel:8, rew:8\n",
      "i:3, vel:12, rew:12\n",
      "i:4, vel:15, rew:15\n",
      "i:5, vel:19, rew:19\n",
      "i:6, vel:23, rew:23\n",
      "i:7, vel:27, rew:27\n",
      "i:8, vel:31, rew:31\n",
      "i:9, vel:35, rew:35\n",
      "i:10, vel:38, rew:38\n",
      "i:11, vel:42, rew:42\n",
      "i:12, vel:46, rew:46\n",
      "i:13, vel:50, rew:50\n",
      "i:14, vel:54, rew:54\n",
      "i:15, vel:57, rew:57\n",
      "i:16, vel:61, rew:61\n",
      "i:17, vel:65, rew:65\n",
      "i:18, vel:69, rew:69\n",
      "i:19, vel:73, rew:73\n",
      "i:0, vel:1, rew:1\n",
      "i:1, vel:5, rew:5\n",
      "i:2, vel:9, rew:9\n",
      "i:3, vel:13, rew:13\n",
      "i:4, vel:16, rew:16\n",
      "i:5, vel:20, rew:20\n",
      "i:6, vel:24, rew:24\n",
      "i:7, vel:27, rew:27\n",
      "i:8, vel:31, rew:31\n",
      "i:9, vel:35, rew:35\n",
      "i:10, vel:39, rew:39\n",
      "i:11, vel:43, rew:43\n",
      "i:12, vel:47, rew:47\n",
      "i:13, vel:50, rew:50\n",
      "i:14, vel:54, rew:54\n",
      "i:15, vel:58, rew:58\n",
      "i:16, vel:62, rew:62\n",
      "i:17, vel:65, rew:65\n",
      "i:18, vel:69, rew:69\n",
      "i:19, vel:73, rew:73\n"
     ]
    }
   ],
   "source": [
    "act = np.array([1.0,0.0,0.0,0.0])\n",
    "time.sleep(2.0)  # click on TM window\n",
    "env.reset()\n",
    "for i in range(20):\n",
    "    obs, rew, done, info = env.step(act)\n",
    "    print(f\"i:{i}, vel:{obs['speed']}, rew:{rew}\")\n",
    "env.reset()\n",
    "for i in range(20):\n",
    "    obs, rew, done, info = env.step(act)\n",
    "    print(f\"i:{i}, vel:{obs['speed']}, rew:{rew}\")"
   ]
  },
  {
   "cell_type": "code",
   "execution_count": 6,
   "metadata": {},
   "outputs": [
    {
     "ename": "NameError",
     "evalue": "name 'zz' is not defined",
     "output_type": "error",
     "traceback": [
      "\u001b[1;31m---------------------------------------------------------------------------\u001b[0m",
      "\u001b[1;31mNameError\u001b[0m                                 Traceback (most recent call last)",
      "\u001b[1;32m<ipython-input-6-15546de8c3b0>\u001b[0m in \u001b[0;36m<module>\u001b[1;34m\u001b[0m\n\u001b[1;32m----> 1\u001b[1;33m \u001b[0mzz\u001b[0m\u001b[1;33m\u001b[0m\u001b[1;33m\u001b[0m\u001b[0m\n\u001b[0m",
      "\u001b[1;31mNameError\u001b[0m: name 'zz' is not defined"
     ]
    }
   ],
   "source": [
    "zz"
   ]
  },
  {
   "cell_type": "code",
   "execution_count": null,
   "metadata": {},
   "outputs": [],
   "source": []
  }
 ],
 "metadata": {
  "kernelspec": {
   "display_name": "Python 3",
   "language": "python",
   "name": "python3"
  },
  "language_info": {
   "codemirror_mode": {
    "name": "ipython",
    "version": 3
   },
   "file_extension": ".py",
   "mimetype": "text/x-python",
   "name": "python",
   "nbconvert_exporter": "python",
   "pygments_lexer": "ipython3",
   "version": "3.7.6"
  }
 },
 "nbformat": 4,
 "nbformat_minor": 4
}
